{
 "cells": [
  {
   "cell_type": "code",
   "execution_count": 98,
   "id": "4091efaa-7e6d-47e2-89fe-1ead9c394f78",
   "metadata": {},
   "outputs": [],
   "source": [
    "import numpy as np\n",
    "import pandas as pd\n",
    "import spacy\n",
    "\n",
    "from sklearn.feature_extraction.text import TfidfVectorizer\n",
    "from sklearn.linear_model import LogisticRegression\n",
    "from sklearn.naive_bayes import MultinomialNB\n",
    "from sklearn.model_selection import train_test_split\n",
    "from sklearn.metrics import accuracy_score, classification_report\n",
    "from sklearn.preprocessing import Binarizer"
   ]
  },
  {
   "cell_type": "code",
   "execution_count": 64,
   "id": "2470be2d-12c5-4698-b2d2-8db88fe79af2",
   "metadata": {},
   "outputs": [],
   "source": [
    "df = pd.read_csv('A1 - data_sample.csv')"
   ]
  },
  {
   "cell_type": "code",
   "execution_count": 65,
   "id": "f0fed42b-1c11-419f-b30f-0322fa6256fd",
   "metadata": {},
   "outputs": [],
   "source": [
    "nlp = spacy.load('en_core_web_sm')"
   ]
  },
  {
   "cell_type": "code",
   "execution_count": 66,
   "id": "d8fb60e2-4d80-4823-a714-d1bc8936a5c3",
   "metadata": {},
   "outputs": [
    {
     "name": "stdout",
     "output_type": "stream",
     "text": [
      "Apple is looking at buying U.K. startup for $1 billion\n",
      "Apple is looking at buying U.K. startup for $1 billion\n",
      "Apple PROPN nsubj\n"
     ]
    }
   ],
   "source": [
    "import spacy\n",
    "from spacy.lang.en.examples import sentences \n",
    "\n",
    "nlp = spacy.load(\"en_core_web_sm\")\n",
    "doc = nlp(sentences[0])\n",
    "print(doc)\n",
    "print(doc.text)\n",
    "for token in doc:\n",
    "    print(token.text, token.pos_, token.dep_)\n",
    "    break"
   ]
  },
  {
   "cell_type": "code",
   "execution_count": 67,
   "id": "f3d87ea7-9b8a-4560-9ee8-2fb120a9312f",
   "metadata": {},
   "outputs": [
    {
     "data": {
      "text/plain": [
       "'Apple is looking at buying U.K. startup for $1 billion'"
      ]
     },
     "execution_count": 67,
     "metadata": {},
     "output_type": "execute_result"
    }
   ],
   "source": [
    "sentences[0]"
   ]
  },
  {
   "cell_type": "code",
   "execution_count": 68,
   "id": "70d07a6b-3c25-42ac-8ba0-46a93c9d2832",
   "metadata": {},
   "outputs": [
    {
     "data": {
      "text/plain": [
       "Apple is looking at buying U.K. startup for $1 billion"
      ]
     },
     "execution_count": 68,
     "metadata": {},
     "output_type": "execute_result"
    }
   ],
   "source": [
    "doc"
   ]
  },
  {
   "cell_type": "code",
   "execution_count": 69,
   "id": "f300e706-5e31-4b8f-95b0-c0f5794b91c6",
   "metadata": {},
   "outputs": [],
   "source": [
    "def preprocess_text(text):\n",
    "    text = text.lower()\n",
    "    text = ''.join([c for c in text if c not in '!\"#$%&\\'()*+,-./:;<=>?@[\\\\]^_`{|}~'])\n",
    "    return text"
   ]
  },
  {
   "cell_type": "code",
   "execution_count": 70,
   "id": "c8ae6e1b-d905-46e4-8bba-6bd466105a70",
   "metadata": {},
   "outputs": [],
   "source": [
    "df['clean_name'] = df['plaid_dirty_name'].apply(preprocess_text)"
   ]
  },
  {
   "cell_type": "code",
   "execution_count": 71,
   "id": "3c9fbaec-6c87-423a-8a71-637467f299f9",
   "metadata": {},
   "outputs": [
    {
     "data": {
      "text/html": [
       "<div>\n",
       "<style scoped>\n",
       "    .dataframe tbody tr th:only-of-type {\n",
       "        vertical-align: middle;\n",
       "    }\n",
       "\n",
       "    .dataframe tbody tr th {\n",
       "        vertical-align: top;\n",
       "    }\n",
       "\n",
       "    .dataframe thead th {\n",
       "        text-align: right;\n",
       "    }\n",
       "</style>\n",
       "<table border=\"1\" class=\"dataframe\">\n",
       "  <thead>\n",
       "    <tr style=\"text-align: right;\">\n",
       "      <th></th>\n",
       "      <th>id</th>\n",
       "      <th>original_amount</th>\n",
       "      <th>txn_date</th>\n",
       "      <th>plaid_category</th>\n",
       "      <th>plaid_dirty_name</th>\n",
       "      <th>clean_name</th>\n",
       "    </tr>\n",
       "  </thead>\n",
       "  <tbody>\n",
       "    <tr>\n",
       "      <th>0</th>\n",
       "      <td>1312</td>\n",
       "      <td>3.50</td>\n",
       "      <td>2019-11-20</td>\n",
       "      <td>['Food and Drink']</td>\n",
       "      <td>PepsiCo</td>\n",
       "      <td>pepsico</td>\n",
       "    </tr>\n",
       "    <tr>\n",
       "      <th>1</th>\n",
       "      <td>97452</td>\n",
       "      <td>5.09</td>\n",
       "      <td>2020-11-04</td>\n",
       "      <td>['Travel', 'Gas Stations']</td>\n",
       "      <td>FOOD SMAR 2901 W ARMIT CHICAGO IL 11/04</td>\n",
       "      <td>food smar 2901 w armit chicago il 1104</td>\n",
       "    </tr>\n",
       "    <tr>\n",
       "      <th>2</th>\n",
       "      <td>39582</td>\n",
       "      <td>9.39</td>\n",
       "      <td>2019-05-01</td>\n",
       "      <td>['Food and Drink', 'Restaurants', 'Fast Food']</td>\n",
       "      <td>Chick-fil-A</td>\n",
       "      <td>chickfila</td>\n",
       "    </tr>\n",
       "    <tr>\n",
       "      <th>3</th>\n",
       "      <td>97707</td>\n",
       "      <td>10.20</td>\n",
       "      <td>2020-09-14</td>\n",
       "      <td>['Travel', 'Gas Stations']</td>\n",
       "      <td>FOOD SMAR 2901 W ARMIT CHICAGO IL 09/13</td>\n",
       "      <td>food smar 2901 w armit chicago il 0913</td>\n",
       "    </tr>\n",
       "    <tr>\n",
       "      <th>4</th>\n",
       "      <td>90662</td>\n",
       "      <td>53.40</td>\n",
       "      <td>2020-11-06</td>\n",
       "      <td>['Shops', 'Pets']</td>\n",
       "      <td>CHEWY.COM POS FL US XX4330</td>\n",
       "      <td>chewycom pos fl us xx4330</td>\n",
       "    </tr>\n",
       "  </tbody>\n",
       "</table>\n",
       "</div>"
      ],
      "text/plain": [
       "      id  original_amount    txn_date  \\\n",
       "0   1312             3.50  2019-11-20   \n",
       "1  97452             5.09  2020-11-04   \n",
       "2  39582             9.39  2019-05-01   \n",
       "3  97707            10.20  2020-09-14   \n",
       "4  90662            53.40  2020-11-06   \n",
       "\n",
       "                                   plaid_category  \\\n",
       "0                              ['Food and Drink']   \n",
       "1                      ['Travel', 'Gas Stations']   \n",
       "2  ['Food and Drink', 'Restaurants', 'Fast Food']   \n",
       "3                      ['Travel', 'Gas Stations']   \n",
       "4                               ['Shops', 'Pets']   \n",
       "\n",
       "                          plaid_dirty_name  \\\n",
       "0                                  PepsiCo   \n",
       "1  FOOD SMAR 2901 W ARMIT CHICAGO IL 11/04   \n",
       "2                              Chick-fil-A   \n",
       "3  FOOD SMAR 2901 W ARMIT CHICAGO IL 09/13   \n",
       "4               CHEWY.COM POS FL US XX4330   \n",
       "\n",
       "                               clean_name  \n",
       "0                                 pepsico  \n",
       "1  food smar 2901 w armit chicago il 1104  \n",
       "2                               chickfila  \n",
       "3  food smar 2901 w armit chicago il 0913  \n",
       "4               chewycom pos fl us xx4330  "
      ]
     },
     "execution_count": 71,
     "metadata": {},
     "output_type": "execute_result"
    }
   ],
   "source": [
    "df.head()"
   ]
  },
  {
   "cell_type": "code",
   "execution_count": 72,
   "id": "d171789e-aa8f-4a05-b280-fd1e05c3c8bf",
   "metadata": {},
   "outputs": [],
   "source": [
    "def tokenize_and_pos(text):\n",
    "    doc = nlp(text)\n",
    "    tokens = [token.text for token in doc]\n",
    "    pos_tags = [token.pos_ for token in doc]\n",
    "    return tokens, pos_tags"
   ]
  },
  {
   "cell_type": "code",
   "execution_count": 73,
   "id": "6a0240df-be3f-483c-8ccc-541329fcb38c",
   "metadata": {},
   "outputs": [],
   "source": [
    "df['tokens'], df['pos_tags'] = zip(*df['clean_name'].apply(tokenize_and_pos))"
   ]
  },
  {
   "cell_type": "code",
   "execution_count": 74,
   "id": "e84423df-668e-490d-880f-9ef027148db0",
   "metadata": {},
   "outputs": [
    {
     "data": {
      "text/html": [
       "<div>\n",
       "<style scoped>\n",
       "    .dataframe tbody tr th:only-of-type {\n",
       "        vertical-align: middle;\n",
       "    }\n",
       "\n",
       "    .dataframe tbody tr th {\n",
       "        vertical-align: top;\n",
       "    }\n",
       "\n",
       "    .dataframe thead th {\n",
       "        text-align: right;\n",
       "    }\n",
       "</style>\n",
       "<table border=\"1\" class=\"dataframe\">\n",
       "  <thead>\n",
       "    <tr style=\"text-align: right;\">\n",
       "      <th></th>\n",
       "      <th>id</th>\n",
       "      <th>original_amount</th>\n",
       "      <th>txn_date</th>\n",
       "      <th>plaid_category</th>\n",
       "      <th>plaid_dirty_name</th>\n",
       "      <th>clean_name</th>\n",
       "      <th>tokens</th>\n",
       "      <th>pos_tags</th>\n",
       "    </tr>\n",
       "  </thead>\n",
       "  <tbody>\n",
       "    <tr>\n",
       "      <th>0</th>\n",
       "      <td>1312</td>\n",
       "      <td>3.50</td>\n",
       "      <td>2019-11-20</td>\n",
       "      <td>['Food and Drink']</td>\n",
       "      <td>PepsiCo</td>\n",
       "      <td>pepsico</td>\n",
       "      <td>[pepsico]</td>\n",
       "      <td>[PROPN]</td>\n",
       "    </tr>\n",
       "    <tr>\n",
       "      <th>1</th>\n",
       "      <td>97452</td>\n",
       "      <td>5.09</td>\n",
       "      <td>2020-11-04</td>\n",
       "      <td>['Travel', 'Gas Stations']</td>\n",
       "      <td>FOOD SMAR 2901 W ARMIT CHICAGO IL 11/04</td>\n",
       "      <td>food smar 2901 w armit chicago il 1104</td>\n",
       "      <td>[food, smar, 2901, w, armit, chicago, il, 1104]</td>\n",
       "      <td>[NOUN, PROPN, NUM, PROPN, PROPN, PROPN, PROPN,...</td>\n",
       "    </tr>\n",
       "    <tr>\n",
       "      <th>2</th>\n",
       "      <td>39582</td>\n",
       "      <td>9.39</td>\n",
       "      <td>2019-05-01</td>\n",
       "      <td>['Food and Drink', 'Restaurants', 'Fast Food']</td>\n",
       "      <td>Chick-fil-A</td>\n",
       "      <td>chickfila</td>\n",
       "      <td>[chickfila]</td>\n",
       "      <td>[PROPN]</td>\n",
       "    </tr>\n",
       "    <tr>\n",
       "      <th>3</th>\n",
       "      <td>97707</td>\n",
       "      <td>10.20</td>\n",
       "      <td>2020-09-14</td>\n",
       "      <td>['Travel', 'Gas Stations']</td>\n",
       "      <td>FOOD SMAR 2901 W ARMIT CHICAGO IL 09/13</td>\n",
       "      <td>food smar 2901 w armit chicago il 0913</td>\n",
       "      <td>[food, smar, 2901, w, armit, chicago, il, 0913]</td>\n",
       "      <td>[NOUN, PROPN, NUM, PROPN, PROPN, PROPN, PROPN,...</td>\n",
       "    </tr>\n",
       "    <tr>\n",
       "      <th>4</th>\n",
       "      <td>90662</td>\n",
       "      <td>53.40</td>\n",
       "      <td>2020-11-06</td>\n",
       "      <td>['Shops', 'Pets']</td>\n",
       "      <td>CHEWY.COM POS FL US XX4330</td>\n",
       "      <td>chewycom pos fl us xx4330</td>\n",
       "      <td>[chewycom, pos, fl, us, xx4330]</td>\n",
       "      <td>[PROPN, PROPN, ADP, PRON, PROPN]</td>\n",
       "    </tr>\n",
       "  </tbody>\n",
       "</table>\n",
       "</div>"
      ],
      "text/plain": [
       "      id  original_amount    txn_date  \\\n",
       "0   1312             3.50  2019-11-20   \n",
       "1  97452             5.09  2020-11-04   \n",
       "2  39582             9.39  2019-05-01   \n",
       "3  97707            10.20  2020-09-14   \n",
       "4  90662            53.40  2020-11-06   \n",
       "\n",
       "                                   plaid_category  \\\n",
       "0                              ['Food and Drink']   \n",
       "1                      ['Travel', 'Gas Stations']   \n",
       "2  ['Food and Drink', 'Restaurants', 'Fast Food']   \n",
       "3                      ['Travel', 'Gas Stations']   \n",
       "4                               ['Shops', 'Pets']   \n",
       "\n",
       "                          plaid_dirty_name  \\\n",
       "0                                  PepsiCo   \n",
       "1  FOOD SMAR 2901 W ARMIT CHICAGO IL 11/04   \n",
       "2                              Chick-fil-A   \n",
       "3  FOOD SMAR 2901 W ARMIT CHICAGO IL 09/13   \n",
       "4               CHEWY.COM POS FL US XX4330   \n",
       "\n",
       "                               clean_name  \\\n",
       "0                                 pepsico   \n",
       "1  food smar 2901 w armit chicago il 1104   \n",
       "2                               chickfila   \n",
       "3  food smar 2901 w armit chicago il 0913   \n",
       "4               chewycom pos fl us xx4330   \n",
       "\n",
       "                                            tokens  \\\n",
       "0                                        [pepsico]   \n",
       "1  [food, smar, 2901, w, armit, chicago, il, 1104]   \n",
       "2                                      [chickfila]   \n",
       "3  [food, smar, 2901, w, armit, chicago, il, 0913]   \n",
       "4                  [chewycom, pos, fl, us, xx4330]   \n",
       "\n",
       "                                            pos_tags  \n",
       "0                                            [PROPN]  \n",
       "1  [NOUN, PROPN, NUM, PROPN, PROPN, PROPN, PROPN,...  \n",
       "2                                            [PROPN]  \n",
       "3  [NOUN, PROPN, NUM, PROPN, PROPN, PROPN, PROPN,...  \n",
       "4                   [PROPN, PROPN, ADP, PRON, PROPN]  "
      ]
     },
     "execution_count": 74,
     "metadata": {},
     "output_type": "execute_result"
    }
   ],
   "source": [
    "df.head()"
   ]
  },
  {
   "cell_type": "code",
   "execution_count": 75,
   "id": "706ca8b9-cdb3-42c8-940d-b7952eab8230",
   "metadata": {},
   "outputs": [],
   "source": [
    "tfidf_vectorizer = TfidfVectorizer()"
   ]
  },
  {
   "cell_type": "code",
   "execution_count": 76,
   "id": "d63fea77-eb75-4499-ae37-bd1792179027",
   "metadata": {},
   "outputs": [],
   "source": [
    "X = tfidf_vectorizer.fit_transform(df['clean_name'])"
   ]
  },
  {
   "cell_type": "code",
   "execution_count": 77,
   "id": "e4d2db9b-21b9-4f2d-96d7-cff57f4831c5",
   "metadata": {},
   "outputs": [],
   "source": [
    "y = df['clean_name']"
   ]
  },
  {
   "cell_type": "code",
   "execution_count": 78,
   "id": "d6153fa3-e48f-4d06-a02d-f5a0d5c6dc69",
   "metadata": {},
   "outputs": [
    {
     "data": {
      "text/plain": [
       "(scipy.sparse._csr.csr_matrix, pandas.core.series.Series)"
      ]
     },
     "execution_count": 78,
     "metadata": {},
     "output_type": "execute_result"
    }
   ],
   "source": [
    "type(X), type(y)"
   ]
  },
  {
   "cell_type": "code",
   "execution_count": 79,
   "id": "a7c884fb-09e1-4604-ad91-b429cb380a82",
   "metadata": {},
   "outputs": [],
   "source": [
    "X_train, X_test, y_train, y_test = train_test_split(X, y, test_size=0.2, random_state=42)"
   ]
  },
  {
   "cell_type": "code",
   "execution_count": 82,
   "id": "ad6a6e21-7db8-4d52-84d7-f8fce5bcceae",
   "metadata": {},
   "outputs": [
    {
     "data": {
      "text/plain": [
       "(729, 857)"
      ]
     },
     "execution_count": 82,
     "metadata": {},
     "output_type": "execute_result"
    }
   ],
   "source": [
    "X_test.shape"
   ]
  },
  {
   "cell_type": "code",
   "execution_count": 83,
   "id": "a83a7f65-f6b8-447b-a665-0af173747f98",
   "metadata": {},
   "outputs": [
    {
     "data": {
      "text/html": [
       "<style>#sk-container-id-5 {color: black;}#sk-container-id-5 pre{padding: 0;}#sk-container-id-5 div.sk-toggleable {background-color: white;}#sk-container-id-5 label.sk-toggleable__label {cursor: pointer;display: block;width: 100%;margin-bottom: 0;padding: 0.3em;box-sizing: border-box;text-align: center;}#sk-container-id-5 label.sk-toggleable__label-arrow:before {content: \"▸\";float: left;margin-right: 0.25em;color: #696969;}#sk-container-id-5 label.sk-toggleable__label-arrow:hover:before {color: black;}#sk-container-id-5 div.sk-estimator:hover label.sk-toggleable__label-arrow:before {color: black;}#sk-container-id-5 div.sk-toggleable__content {max-height: 0;max-width: 0;overflow: hidden;text-align: left;background-color: #f0f8ff;}#sk-container-id-5 div.sk-toggleable__content pre {margin: 0.2em;color: black;border-radius: 0.25em;background-color: #f0f8ff;}#sk-container-id-5 input.sk-toggleable__control:checked~div.sk-toggleable__content {max-height: 200px;max-width: 100%;overflow: auto;}#sk-container-id-5 input.sk-toggleable__control:checked~label.sk-toggleable__label-arrow:before {content: \"▾\";}#sk-container-id-5 div.sk-estimator input.sk-toggleable__control:checked~label.sk-toggleable__label {background-color: #d4ebff;}#sk-container-id-5 div.sk-label input.sk-toggleable__control:checked~label.sk-toggleable__label {background-color: #d4ebff;}#sk-container-id-5 input.sk-hidden--visually {border: 0;clip: rect(1px 1px 1px 1px);clip: rect(1px, 1px, 1px, 1px);height: 1px;margin: -1px;overflow: hidden;padding: 0;position: absolute;width: 1px;}#sk-container-id-5 div.sk-estimator {font-family: monospace;background-color: #f0f8ff;border: 1px dotted black;border-radius: 0.25em;box-sizing: border-box;margin-bottom: 0.5em;}#sk-container-id-5 div.sk-estimator:hover {background-color: #d4ebff;}#sk-container-id-5 div.sk-parallel-item::after {content: \"\";width: 100%;border-bottom: 1px solid gray;flex-grow: 1;}#sk-container-id-5 div.sk-label:hover label.sk-toggleable__label {background-color: #d4ebff;}#sk-container-id-5 div.sk-serial::before {content: \"\";position: absolute;border-left: 1px solid gray;box-sizing: border-box;top: 0;bottom: 0;left: 50%;z-index: 0;}#sk-container-id-5 div.sk-serial {display: flex;flex-direction: column;align-items: center;background-color: white;padding-right: 0.2em;padding-left: 0.2em;position: relative;}#sk-container-id-5 div.sk-item {position: relative;z-index: 1;}#sk-container-id-5 div.sk-parallel {display: flex;align-items: stretch;justify-content: center;background-color: white;position: relative;}#sk-container-id-5 div.sk-item::before, #sk-container-id-5 div.sk-parallel-item::before {content: \"\";position: absolute;border-left: 1px solid gray;box-sizing: border-box;top: 0;bottom: 0;left: 50%;z-index: -1;}#sk-container-id-5 div.sk-parallel-item {display: flex;flex-direction: column;z-index: 1;position: relative;background-color: white;}#sk-container-id-5 div.sk-parallel-item:first-child::after {align-self: flex-end;width: 50%;}#sk-container-id-5 div.sk-parallel-item:last-child::after {align-self: flex-start;width: 50%;}#sk-container-id-5 div.sk-parallel-item:only-child::after {width: 0;}#sk-container-id-5 div.sk-dashed-wrapped {border: 1px dashed gray;margin: 0 0.4em 0.5em 0.4em;box-sizing: border-box;padding-bottom: 0.4em;background-color: white;}#sk-container-id-5 div.sk-label label {font-family: monospace;font-weight: bold;display: inline-block;line-height: 1.2em;}#sk-container-id-5 div.sk-label-container {text-align: center;}#sk-container-id-5 div.sk-container {/* jupyter's `normalize.less` sets `[hidden] { display: none; }` but bootstrap.min.css set `[hidden] { display: none !important; }` so we also need the `!important` here to be able to override the default hidden behavior on the sphinx rendered scikit-learn.org. See: https://github.com/scikit-learn/scikit-learn/issues/21755 */display: inline-block !important;position: relative;}#sk-container-id-5 div.sk-text-repr-fallback {display: none;}</style><div id=\"sk-container-id-5\" class=\"sk-top-container\"><div class=\"sk-text-repr-fallback\"><pre>LogisticRegression(max_iter=1000)</pre><b>In a Jupyter environment, please rerun this cell to show the HTML representation or trust the notebook. <br />On GitHub, the HTML representation is unable to render, please try loading this page with nbviewer.org.</b></div><div class=\"sk-container\" hidden><div class=\"sk-item\"><div class=\"sk-estimator sk-toggleable\"><input class=\"sk-toggleable__control sk-hidden--visually\" id=\"sk-estimator-id-5\" type=\"checkbox\" checked><label for=\"sk-estimator-id-5\" class=\"sk-toggleable__label sk-toggleable__label-arrow\">LogisticRegression</label><div class=\"sk-toggleable__content\"><pre>LogisticRegression(max_iter=1000)</pre></div></div></div></div></div>"
      ],
      "text/plain": [
       "LogisticRegression(max_iter=1000)"
      ]
     },
     "execution_count": 83,
     "metadata": {},
     "output_type": "execute_result"
    }
   ],
   "source": [
    "log_reg = LogisticRegression(max_iter=1000)\n",
    "log_reg.fit(X_train, y_train)"
   ]
  },
  {
   "cell_type": "code",
   "execution_count": 84,
   "id": "0a4799a5-4ebb-4f46-8cf4-6f272c1447d3",
   "metadata": {},
   "outputs": [],
   "source": [
    "y_pred = log_reg.predict(X_test)"
   ]
  },
  {
   "cell_type": "code",
   "execution_count": 85,
   "id": "f3d06f2b-1b66-46bd-874e-fc2c032a9fdc",
   "metadata": {},
   "outputs": [],
   "source": [
    "accuracy = accuracy_score(y_test, y_pred)"
   ]
  },
  {
   "cell_type": "code",
   "execution_count": 86,
   "id": "3fc4442e-12cf-4ef0-be5e-fc3d46028e12",
   "metadata": {},
   "outputs": [
    {
     "data": {
      "text/plain": [
       "0.7462277091906722"
      ]
     },
     "execution_count": 86,
     "metadata": {},
     "output_type": "execute_result"
    }
   ],
   "source": [
    "accuracy"
   ]
  },
  {
   "cell_type": "code",
   "execution_count": 87,
   "id": "24dae676-6c5d-4562-85b2-5233005d9e3c",
   "metadata": {},
   "outputs": [
    {
     "name": "stdout",
     "output_type": "stream",
     "text": [
      "Classification Report:\n",
      "                                                                      precision    recall  f1-score   support\n",
      "\n",
      "                                                    aden food market       1.00      1.00      1.00        25\n",
      "                                                       ally cashback       0.95      1.00      0.98        21\n",
      "                       ally cashback future amount 19377  tran achdw       0.00      0.00      0.00         1\n",
      "                                                             audible       1.00      1.00      1.00        21\n",
      "                                                           chewy inc       0.67      1.00      0.80         4\n",
      "                                                            chewycom       0.92      1.00      0.96        12\n",
      "                                                    chewycom fl 0702       0.00      0.00      0.00         1\n",
      "                                                            chickfil       1.00      1.00      1.00         1\n",
      "                                                           chickfila       0.67      1.00      0.80        96\n",
      "                                                    cumberland farms       1.00      1.00      1.00        15\n",
      "       debit purchase visa 0307 card 6332 marathon petro12versailles       0.00      0.00      0.00         1\n",
      "   debit purchase visa 0522 card 6332 marathon petro74floyds knobsin       0.00      0.00      0.00         1\n",
      "                                                      dollar general       0.90      1.00      0.95        18\n",
      "                                                         dollar tree       0.93      1.00      0.97        14\n",
      "                                        doordashchickfil wwwdoordash       0.00      0.00      0.00         0\n",
      "                                                         duane reade       1.00      1.00      1.00        34\n",
      "                                  dunkin 331707 q35 brooklyn ny 0902       0.00      0.00      0.00         1\n",
      "                                  dunkin 331707 q35 brooklyn ny 0912       0.00      0.00      0.00         1\n",
      "                                  dunkin 331707 q35 brooklyn ny 1105       0.00      0.00      0.00         1\n",
      "                                  dunkin 334933 q35 elmsford ny 0306       0.00      0.00      0.00         1\n",
      "                                  dunkin 338221 q35 brooklyn ny 0706       0.00      0.00      0.00         1\n",
      "                                  dunkin 338221 q35 brooklyn ny 0711       0.00      0.00      0.00         1\n",
      "                                  dunkin 338221 q35 brooklyn ny 0720       0.00      0.00      0.00         1\n",
      "                                  dunkin 340441 q35 brooklyn ny 0223       0.00      0.00      0.00         1\n",
      "                                  dunkin 340441 q35 brooklyn ny 0810       0.00      0.00      0.00         1\n",
      "                                  dunkin 340441 q35 brooklyn ny 0824       0.00      0.00      0.00         1\n",
      "                                 dunkin 349427 q3 new canaan ct 1026       0.00      0.00      0.00         1\n",
      "             fis doordashchick doordashchickfil san francisco ca4961       0.00      0.00      0.00         1\n",
      "                              food smar 2901 w armit chicago il 0105       0.00      0.00      0.00         1\n",
      "                              food smar 2901 w armit chicago il 0106       0.00      0.00      0.00         1\n",
      "                              food smar 2901 w armit chicago il 0511       0.00      0.00      0.00         1\n",
      "                              food smar 2901 w armit chicago il 0602       0.00      0.00      0.00         1\n",
      "                              food smar 2901 w armit chicago il 0611       0.00      0.00      0.00         1\n",
      "                              food smar 2901 w armit chicago il 0626       0.00      0.00      0.00         1\n",
      "                              food smar 2901 w armit chicago il 0708       0.00      0.00      0.00         1\n",
      "                              food smar 2901 w armit chicago il 0715       0.00      0.00      0.00         1\n",
      "                              food smar 2901 w armit chicago il 0810       0.00      0.00      0.00         1\n",
      "                              food smar 2901 w armit chicago il 0923       0.00      0.00      0.00         1\n",
      "                              food smar 2901 w armit chicago il 1026       0.00      0.00      0.00         1\n",
      "                              food smar 2901 w armit chicago il 1029       0.00      0.00      0.00         1\n",
      "                              food smar 2901 w armit chicago il 1101       0.00      0.00      0.00         1\n",
      "                              food smar 2901 w armit chicago il 1109       0.00      0.00      0.00         1\n",
      "                              food smar 2901 w armit chicago il 1110       0.00      0.00      0.00         1\n",
      "                              food smar 2901 w armit chicago il 1122       0.00      0.00      0.00         1\n",
      "                              food smar 2901 w armit chicago il 1127       0.00      0.00      0.00         1\n",
      "                              food smar 2901 w armit chicago il 1203       0.00      0.00      0.00         1\n",
      "                              food smar 2901 w armit chicago il 1210       0.00      0.00      0.00         1\n",
      "                              food smar 2901 w armit chicago il 1225       0.00      0.00      0.00         1\n",
      "                                    globalpok gold coin gpvgwco 0528       0.00      0.00      0.00         1\n",
      "                                    globalpok gold coin gpvgwco 0708       0.00      0.00      0.00         1\n",
      "                                    globalpok gold coin gpvgwco 0823       0.00      0.00      0.00         1\n",
      "                                    globalpok gold coin gpvgwco 1007       0.00      0.00      0.00         1\n",
      "                                    globalpok gold coin gpvgwco 1017       0.00      0.00      0.00         1\n",
      "                                    globalpok gold coin gpvgwco 1018       0.00      0.00      0.00         1\n",
      "                                  globalpok gold coins ta xbiex 0516       0.00      0.00      0.00         1\n",
      "                                  globalpok gold coins ta xbiex 0601       0.00      0.00      0.00         2\n",
      "                                  globalpok gold coins ta xbiex 0611       0.00      0.00      0.00         1\n",
      "                                  globalpok gold coins ta xbiex 0612       0.00      0.00      0.00         2\n",
      "                                  globalpok gold coins ta xbiex 0613       0.00      0.00      0.00         1\n",
      "                                  globalpok gold coins ta xbiex 0620       1.00      1.00      1.00         1\n",
      "                                  globalpok gold coins ta xbiex 0706       0.00      0.00      0.00         0\n",
      "                                  globalpok gold coins ta xbiex 0708       0.00      0.00      0.00         1\n",
      "                                  globalpok gold coins ta xbiex 0709       0.00      0.00      0.00         1\n",
      "                                  globalpok gold coins ta xbiex 0724       0.00      0.00      0.00         1\n",
      "                                  globalpok gold coins ta xbiex 0811       0.00      0.00      0.00         1\n",
      "                                  globalpok gold coins ta xbiex 0815       0.00      0.00      0.00         1\n",
      "                                  globalpok gold coins ta xbiex 1003       0.00      0.00      0.00         1\n",
      "                                  globalpok gold coins ta xbiex 1008       0.00      0.00      0.00         1\n",
      "                                  globalpok gold coins ta xbiex 1014       0.00      0.00      0.00         1\n",
      "                                  globalpok gold coins ta xbiex 1016       1.00      1.00      1.00         3\n",
      "                                  globalpok gold coins ta xbiex 1017       0.00      0.00      0.00         2\n",
      "                                  globalpok gold coins ta xbiex 1018       0.00      0.00      0.00         1\n",
      "                                  globalpok gold coins ta xbiex 1022       1.00      1.00      1.00         3\n",
      "                                  globalpok gold coins ta xbiex 1026       0.00      0.00      0.00         1\n",
      "                                                            hovercom       1.00      1.00      1.00        12\n",
      "                                                   hudsondunkin st21       0.00      0.00      0.00         1\n",
      "                         jewel osco 3290 melrose park il 539240 1125       0.00      0.00      0.00         1\n",
      "                             jewel osco 3346 elmhurst il 997855 1025       0.00      0.00      0.00         1\n",
      "                                 jewel osco 3485 lake zurich il 1128       0.00      0.00      0.00         1\n",
      "                                                           jewelosco       1.00      1.00      1.00         2\n",
      "                                                manele general store       0.00      0.00      0.00         1\n",
      "                                                 marathon oil 076000       0.00      0.00      0.00         1\n",
      "                                                      marathon petro       0.00      0.00      0.00         0\n",
      "                                                 marathon petro 0920       0.00      0.00      0.00         1\n",
      "                                        marathon petro1207 0315 fort       0.00      0.00      0.00         1\n",
      "                                        marathon petro1207 0329 fort       0.00      0.00      0.00         1\n",
      "                                        marathon petro1207 0429 fort       0.00      0.00      0.00         1\n",
      "                                        marathon petro1207 0501 fort       0.00      0.00      0.00         1\n",
      "                                        marathon petro1207 0514 fort       0.00      0.00      0.00         1\n",
      "                                        marathon petro1207 0517 fort       0.00      0.00      0.00         1\n",
      "                                        marathon petro1207 0608 fort       0.00      0.00      0.00         1\n",
      "                                        marathon petro1207 0618 fort       0.00      0.00      0.00         1\n",
      "                                        marathon petro1207 0629 fort       0.00      0.00      0.00         1\n",
      "                                                marathon petro135046       0.00      0.00      0.00         1\n",
      "                                                marathon petro150722       0.00      0.00      0.00         1\n",
      "                                                marathon petro171314       0.00      0.00      0.00         1\n",
      "                                                marathon petro191262       0.00      0.00      0.00         1\n",
      "                                                marathon petro191684       1.00      1.00      1.00         1\n",
      "                                      marathon petro21 012719 murray       0.00      0.00      0.00         1\n",
      "                                      marathon petro2197 0131 murray       0.00      0.00      0.00         1\n",
      "                                      marathon petro2197 0205 murray       0.00      0.00      0.00         1\n",
      "                                      marathon petro2197 0220 murray       0.00      0.00      0.00         1\n",
      "                                      marathon petro2197 0328 murray       0.00      0.00      0.00         1\n",
      "                                                    marathon petro27       0.00      0.00      0.00         1\n",
      "                                                 marathon petro39727       0.00      0.00      0.00         1\n",
      "                               metropolitan transportation authority       1.00      1.00      1.00        19\n",
      "                          nycdot parking meters long is city ny 0106       0.00      0.00      0.00         1\n",
      "                          nycdot parking meters long is city ny 0108       0.00      0.00      0.00         1\n",
      "                          nycdot parking meters long is city ny 0109       0.00      0.00      0.00         1\n",
      "                          nycdot parking meters long is city ny 0110       0.00      0.00      0.00         1\n",
      "                          nycdot parking meters long is city ny 0423       0.00      0.00      0.00         1\n",
      "                          nycdot parking meters long is city ny 0424       0.00      0.00      0.00         1\n",
      "                          nycdot parking meters long is city ny 0508       0.00      0.00      0.00         1\n",
      "                          nycdot parking meters long is city ny 0605       0.00      0.00      0.00         1\n",
      "                          nycdot parking meters long is city ny 0617       0.00      0.00      0.00         1\n",
      "                          nycdot parking meters long is city ny 0624       0.00      0.00      0.00         1\n",
      "                          nycdot parking meters long is city ny 0629       0.00      0.00      0.00         1\n",
      "                          nycdot parking meters long is city ny 0710       0.00      0.00      0.00         3\n",
      "                          nycdot parking meters long is city ny 0723       0.00      0.00      0.00         1\n",
      "                          nycdot parking meters long is city ny 0729       0.00      0.00      0.00         1\n",
      "                          nycdot parking meters long is city ny 0731       0.00      0.00      0.00         2\n",
      "                          nycdot parking meters long is city ny 0901       0.00      0.00      0.00         2\n",
      "                          nycdot parking meters long is city ny 0908       0.00      0.00      0.00         1\n",
      "                          nycdot parking meters long is city ny 0915       0.00      0.00      0.00         1\n",
      "                          nycdot parking meters long is city ny 0921       0.00      0.00      0.00         1\n",
      "                          nycdot parking meters long is city ny 1021       0.00      0.00      0.00         1\n",
      "                          nycdot parking meters long is city ny 1103       0.00      0.00      0.00         1\n",
      "                          nycdot parking meters long is city ny 1221       0.00      0.00      0.00         1\n",
      "                                              nycdot parknyc ny 0306       0.00      0.00      0.00         1\n",
      "                                              nycdot parknyc ny 0515       0.00      0.00      0.00         1\n",
      "                                                     panda 1 express       0.00      0.00      0.00         1\n",
      "                                                       panda express       0.92      1.00      0.96        12\n",
      "                                                             pepsico       1.00      1.00      1.00         8\n",
      "                                   point of sale debit ross store 57       1.00      1.00      1.00         2\n",
      "                                       point of sale debit ulta 3 25       0.00      0.00      0.00         1\n",
      "               pos debit food smar 2901 w armit chicago il 00nn09742       0.20      1.00      0.33         5\n",
      "                               pos debit globalpok gold coin gpvgwco       0.00      0.00      0.00         0\n",
      "                             pos debit globalpok gold coins ta xbiex       0.10      1.00      0.17         2\n",
      "                                           pos debit jewel osco 3474       0.60      1.00      0.75         6\n",
      "                                     pos debit nycdot parking meters       0.25      1.00      0.40        10\n",
      "                            pos debit wixcompremiumplan ny 00nn09018       0.00      0.00      0.00         1\n",
      "                              pos withdraw tropical smoothie iankeny       0.00      0.00      0.00         1\n",
      "pos withdrawal fis doordashchick doordashchickfil wwwdoordash ca4961       0.00      0.00      0.00         1\n",
      "                                                            quiktrip       1.00      1.00      1.00        12\n",
      "                  recurring debit purchase 0920 card 6332 wixcom inc       0.00      0.00      0.00         1\n",
      "                                  recurring payment  wixcom571186061       0.00      0.00      0.00         1\n",
      "                                  recurring payment  wixcompremiumpl       0.00      0.00      0.00         2\n",
      "                                                 ross dress for less       0.71      1.00      0.83         5\n",
      "            ross stores 1 1108 purchase crestwood il debit card 0044       0.00      0.00      0.00         1\n",
      "                               ross stores 1523 calumet city il 0109       0.00      0.00      0.00         1\n",
      "                                                sd zoo cinnamon tree       0.00      0.00      0.00         1\n",
      "                                                             sephora       1.00      1.00      1.00        29\n",
      "                                                     shaws osco 0057       0.00      0.00      0.00         1\n",
      "                                                              sheetz       1.00      1.00      1.00        11\n",
      "                                                       smoothie king       1.00      1.00      1.00         1\n",
      "                                                            spothero       0.00      0.00      0.00         1\n",
      "                                                      spothero 84435       0.00      0.00      0.00         1\n",
      "                            spothero 844356805 httpsspothero il 0122       0.00      0.00      0.00         1\n",
      "                            spothero 844356805 httpsspothero il 0624       0.00      0.00      0.00         1\n",
      "                            spothero 844356805 httpsspothero il 0625       0.00      0.00      0.00         1\n",
      "                            spothero 844356805 httpsspothero il 0703       0.00      0.00      0.00         2\n",
      "                            spothero 844356805 httpsspothero il 0715       0.00      0.00      0.00         1\n",
      "                            spothero 844356805 httpsspothero il 0805       0.00      0.00      0.00         1\n",
      "                            spothero 844356805 httpsspothero il 0927       0.00      0.00      0.00         1\n",
      "                            spothero 844356805 httpsspothero il 1028       0.00      0.00      0.00         1\n",
      "                            spothero 844356805 httpsspothero il 1104       0.00      0.00      0.00         1\n",
      "                            spothero 844356805 httpsspothero il 1119       0.00      0.00      0.00         1\n",
      "                            spothero 844356805 httpsspothero il 1202       0.00      0.00      0.00         1\n",
      "                            spothero 844356805 httpsspothero il 1203       0.00      0.00      0.00         1\n",
      "                                                 spothero 8443568054       0.00      0.00      0.00         0\n",
      "                                         spothero 8443568054 il 0805       0.00      0.00      0.00         1\n",
      "                                         spothero 8443568054 il 0814       0.00      0.00      0.00         1\n",
      "                                              spothero httpsspothero       0.00      0.00      0.00         0\n",
      "                                                          state farm       1.00      1.00      1.00        23\n",
      "                                               t j maxx 250 w 57th s       0.00      0.00      0.00         1\n",
      "                              t j maxx 503 fulton s brooklyn ny 1019       0.00      0.00      0.00         1\n",
      "                                                    the general muir       0.00      0.00      0.00         1\n",
      "                                   the ups store 2791 25 miami fl us       0.00      0.00      0.00         1\n",
      "                             the ups store 4196 43 lafayette in 0401       0.00      0.00      0.00         1\n",
      "                                    the ups store 4240 rancho cordov       0.00      0.00      0.00         1\n",
      "                                                  the ups store 5800       0.00      0.00      0.00         1\n",
      "                            the ups store 5803 college stati tx 0526       0.00      0.00      0.00         1\n",
      "                                                             tj maxx       0.00      0.00      0.00         0\n",
      "                                                              tjmaxx       1.00      1.00      1.00        11\n",
      "                                              tropical smoothie cafe       0.86      1.00      0.92         6\n",
      "                                                                ulta       0.75      1.00      0.86         6\n",
      "                                                         ulta beauty       0.00      0.00      0.00         1\n",
      "                                                             ultacom       1.00      1.00      1.00         2\n",
      "                                                                 ups       0.65      1.00      0.79        11\n",
      "                                              ups us ship 4029357733       0.00      0.00      0.00         1\n",
      "                                                       ventra mobile       0.82      1.00      0.90        64\n",
      "                                               ventra mobile il 0210       0.00      0.00      0.00         1\n",
      "                                               ventra mobile il 0601       0.00      0.00      0.00         1\n",
      "                                               ventra mobile il 0611       0.00      0.00      0.00         1\n",
      "                                               ventra mobile il 0614       0.00      0.00      0.00         1\n",
      "                                               ventra mobile il 0906       0.00      0.00      0.00         1\n",
      "                                               ventra mobile il 0915       0.00      0.00      0.00         1\n",
      "                                               ventra mobile il 1103       0.00      0.00      0.00         1\n",
      "                                               ventra mobile il 1106       0.00      0.00      0.00         1\n",
      "                                               ventra mobile il 1124       0.00      0.00      0.00         1\n",
      "                                               ventra mobile il 1223       0.00      0.00      0.00         1\n",
      "                                                ventra vending 03002       0.00      0.00      0.00         2\n",
      "                                                ventra vending 07902       0.00      0.00      0.00         1\n",
      "                                ventra vending 12001 chicago il 0725       0.00      0.00      0.00         1\n",
      "                                      visa dda pur 469216 chewy com        0.00      0.00      0.00         2\n",
      "                                                        white castle       1.00      1.00      1.00        11\n",
      "                                    withdrawal debit t j maxx   1123       1.00      1.00      1.00         2\n",
      "                                                          wixcom inc       0.50      1.00      0.67         3\n",
      "                                                  wixcom inc ca 0211       0.00      0.00      0.00         1\n",
      "                                                  wixcom premiumplan       0.00      0.00      0.00         1\n",
      "                                                       wixcom4952478       0.00      0.00      0.00         1\n",
      "                                             wixcom546938373 ny 1111       0.00      0.00      0.00         1\n",
      "                                                       wixcom5492090       0.00      0.00      0.00         1\n",
      "                                                       wixcom5751963       0.00      0.00      0.00         1\n",
      "                                                       wixcom5946298       0.00      0.00      0.00         1\n",
      "                                                       wixcom6782139       0.00      0.00      0.00         1\n",
      "                                                     wixcom704656353       0.00      0.00      0.00         1\n",
      "                                                       wixcom7222687       0.00      0.00      0.00         1\n",
      "                                                       wixcom7443682       0.00      0.00      0.00         1\n",
      "                                            wixcomprem 0018006000949       0.00      0.00      0.00         1\n",
      "                                       wixcomprettynlu 1105 purchase       0.00      0.00      0.00         1\n",
      "\n",
      "                                                            accuracy                           0.75       729\n",
      "                                                           macro avg       0.16      0.18      0.16       729\n",
      "                                                        weighted avg       0.64      0.75      0.68       729\n",
      "\n"
     ]
    },
    {
     "name": "stderr",
     "output_type": "stream",
     "text": [
      "/Users/asl-user/Desktop/Others/Assignment/nlp/lib/python3.8/site-packages/sklearn/metrics/_classification.py:1471: UndefinedMetricWarning: Precision and F-score are ill-defined and being set to 0.0 in labels with no predicted samples. Use `zero_division` parameter to control this behavior.\n",
      "  _warn_prf(average, modifier, msg_start, len(result))\n",
      "/Users/asl-user/Desktop/Others/Assignment/nlp/lib/python3.8/site-packages/sklearn/metrics/_classification.py:1471: UndefinedMetricWarning: Recall and F-score are ill-defined and being set to 0.0 in labels with no true samples. Use `zero_division` parameter to control this behavior.\n",
      "  _warn_prf(average, modifier, msg_start, len(result))\n",
      "/Users/asl-user/Desktop/Others/Assignment/nlp/lib/python3.8/site-packages/sklearn/metrics/_classification.py:1471: UndefinedMetricWarning: Precision and F-score are ill-defined and being set to 0.0 in labels with no predicted samples. Use `zero_division` parameter to control this behavior.\n",
      "  _warn_prf(average, modifier, msg_start, len(result))\n",
      "/Users/asl-user/Desktop/Others/Assignment/nlp/lib/python3.8/site-packages/sklearn/metrics/_classification.py:1471: UndefinedMetricWarning: Recall and F-score are ill-defined and being set to 0.0 in labels with no true samples. Use `zero_division` parameter to control this behavior.\n",
      "  _warn_prf(average, modifier, msg_start, len(result))\n",
      "/Users/asl-user/Desktop/Others/Assignment/nlp/lib/python3.8/site-packages/sklearn/metrics/_classification.py:1471: UndefinedMetricWarning: Precision and F-score are ill-defined and being set to 0.0 in labels with no predicted samples. Use `zero_division` parameter to control this behavior.\n",
      "  _warn_prf(average, modifier, msg_start, len(result))\n",
      "/Users/asl-user/Desktop/Others/Assignment/nlp/lib/python3.8/site-packages/sklearn/metrics/_classification.py:1471: UndefinedMetricWarning: Recall and F-score are ill-defined and being set to 0.0 in labels with no true samples. Use `zero_division` parameter to control this behavior.\n",
      "  _warn_prf(average, modifier, msg_start, len(result))\n"
     ]
    }
   ],
   "source": [
    "print(\"Classification Report:\")\n",
    "print(classification_report(y_test, y_pred))"
   ]
  },
  {
   "cell_type": "code",
   "execution_count": 88,
   "id": "bb1605b0-6a6a-4c59-a05e-58ecb5a71c79",
   "metadata": {},
   "outputs": [],
   "source": [
    "unique_merchants, counts = np.unique(y_pred, return_counts=True)\n",
    "merchant_freq = dict(zip(unique_merchants, counts))"
   ]
  },
  {
   "cell_type": "code",
   "execution_count": 89,
   "id": "dc656548-7d14-431e-94c9-61f45444328f",
   "metadata": {},
   "outputs": [
    {
     "data": {
      "text/plain": [
       "{'aden food market': 25,\n",
       " 'ally cashback': 22,\n",
       " 'audible': 21,\n",
       " 'chewy inc': 6,\n",
       " 'chewycom': 13,\n",
       " 'chickfil': 1,\n",
       " 'chickfila': 143,\n",
       " 'cumberland farms': 15,\n",
       " 'dollar general': 20,\n",
       " 'dollar tree': 15,\n",
       " 'doordashchickfil wwwdoordash': 2,\n",
       " 'duane reade': 34,\n",
       " 'globalpok gold coins ta xbiex 0620': 1,\n",
       " 'globalpok gold coins ta xbiex 0706': 1,\n",
       " 'globalpok gold coins ta xbiex 1016': 3,\n",
       " 'globalpok gold coins ta xbiex 1022': 3,\n",
       " 'hovercom': 12,\n",
       " 'jewelosco': 2,\n",
       " 'marathon petro': 1,\n",
       " 'marathon petro191684': 1,\n",
       " 'metropolitan transportation authority': 19,\n",
       " 'panda express': 13,\n",
       " 'pepsico': 8,\n",
       " 'point of sale debit ross store 57': 2,\n",
       " 'pos debit food smar 2901 w armit chicago il 00nn09742': 25,\n",
       " 'pos debit globalpok gold coin gpvgwco': 6,\n",
       " 'pos debit globalpok gold coins ta xbiex': 21,\n",
       " 'pos debit jewel osco 3474': 10,\n",
       " 'pos debit nycdot parking meters': 40,\n",
       " 'quiktrip': 12,\n",
       " 'ross dress for less': 7,\n",
       " 'sephora': 29,\n",
       " 'sheetz': 11,\n",
       " 'smoothie king': 1,\n",
       " 'spothero 8443568054': 4,\n",
       " 'spothero httpsspothero': 13,\n",
       " 'state farm': 23,\n",
       " 'tj maxx': 2,\n",
       " 'tjmaxx': 11,\n",
       " 'tropical smoothie cafe': 7,\n",
       " 'ulta': 8,\n",
       " 'ultacom': 2,\n",
       " 'ups': 17,\n",
       " 'ventra mobile': 78,\n",
       " 'white castle': 11,\n",
       " 'withdrawal debit t j maxx   1123': 2,\n",
       " 'wixcom inc': 6}"
      ]
     },
     "execution_count": 89,
     "metadata": {},
     "output_type": "execute_result"
    }
   ],
   "source": [
    "merchant_freq"
   ]
  },
  {
   "cell_type": "code",
   "execution_count": 96,
   "id": "48d2b9a0-6e7b-4440-bbcb-2a8ba698b268",
   "metadata": {},
   "outputs": [],
   "source": [
    "binarizer = Binarizer()\n",
    "X_bin = binarizer.fit_transform(X)"
   ]
  },
  {
   "cell_type": "code",
   "execution_count": 97,
   "id": "d30c193b-f22a-471e-9d38-5147814f6625",
   "metadata": {},
   "outputs": [
    {
     "data": {
      "text/plain": [
       "<3644x857 sparse matrix of type '<class 'numpy.float64'>'\n",
       "\twith 10214 stored elements in Compressed Sparse Row format>"
      ]
     },
     "execution_count": 97,
     "metadata": {},
     "output_type": "execute_result"
    }
   ],
   "source": []
  },
  {
   "cell_type": "code",
   "execution_count": 93,
   "id": "8023e342-c0c8-45e0-8810-7f2b4c34587d",
   "metadata": {},
   "outputs": [],
   "source": [
    "X_train_cnb, X_test_cnb, y_train_cnb, y_test_cnb = train_test_split(X_bin, y, test_size=0.2, random_state=42)"
   ]
  },
  {
   "cell_type": "code",
   "execution_count": 94,
   "id": "a2f22d06-e9b5-4674-a5ab-335036cdb1c5",
   "metadata": {},
   "outputs": [
    {
     "ename": "TypeError",
     "evalue": "A sparse matrix was passed, but dense data is required. Use X.toarray() to convert to a dense numpy array.",
     "output_type": "error",
     "traceback": [
      "\u001b[0;31m---------------------------------------------------------------------------\u001b[0m",
      "\u001b[0;31mTypeError\u001b[0m                                 Traceback (most recent call last)",
      "Cell \u001b[0;32mIn[94], line 2\u001b[0m\n\u001b[1;32m      1\u001b[0m cnb \u001b[38;5;241m=\u001b[39m CategoricalNB()\n\u001b[0;32m----> 2\u001b[0m \u001b[43mcnb\u001b[49m\u001b[38;5;241;43m.\u001b[39;49m\u001b[43mfit\u001b[49m\u001b[43m(\u001b[49m\u001b[43mX_train_cnb\u001b[49m\u001b[43m,\u001b[49m\u001b[43m \u001b[49m\u001b[43my_train_cnb\u001b[49m\u001b[43m)\u001b[49m\n",
      "File \u001b[0;32m~/Desktop/Others/Assignment/nlp/lib/python3.8/site-packages/sklearn/naive_bayes.py:1391\u001b[0m, in \u001b[0;36mCategoricalNB.fit\u001b[0;34m(self, X, y, sample_weight)\u001b[0m\n\u001b[1;32m   1366\u001b[0m \u001b[38;5;28;01mdef\u001b[39;00m \u001b[38;5;21mfit\u001b[39m(\u001b[38;5;28mself\u001b[39m, X, y, sample_weight\u001b[38;5;241m=\u001b[39m\u001b[38;5;28;01mNone\u001b[39;00m):\n\u001b[1;32m   1367\u001b[0m \u001b[38;5;250m    \u001b[39m\u001b[38;5;124;03m\"\"\"Fit Naive Bayes classifier according to X, y.\u001b[39;00m\n\u001b[1;32m   1368\u001b[0m \n\u001b[1;32m   1369\u001b[0m \u001b[38;5;124;03m    Parameters\u001b[39;00m\n\u001b[0;32m   (...)\u001b[0m\n\u001b[1;32m   1389\u001b[0m \u001b[38;5;124;03m        Returns the instance itself.\u001b[39;00m\n\u001b[1;32m   1390\u001b[0m \u001b[38;5;124;03m    \"\"\"\u001b[39;00m\n\u001b[0;32m-> 1391\u001b[0m     \u001b[38;5;28;01mreturn\u001b[39;00m \u001b[38;5;28;43msuper\u001b[39;49m\u001b[43m(\u001b[49m\u001b[43m)\u001b[49m\u001b[38;5;241;43m.\u001b[39;49m\u001b[43mfit\u001b[49m\u001b[43m(\u001b[49m\u001b[43mX\u001b[49m\u001b[43m,\u001b[49m\u001b[43m \u001b[49m\u001b[43my\u001b[49m\u001b[43m,\u001b[49m\u001b[43m \u001b[49m\u001b[43msample_weight\u001b[49m\u001b[38;5;241;43m=\u001b[39;49m\u001b[43msample_weight\u001b[49m\u001b[43m)\u001b[49m\n",
      "File \u001b[0;32m~/Desktop/Others/Assignment/nlp/lib/python3.8/site-packages/sklearn/base.py:1152\u001b[0m, in \u001b[0;36m_fit_context.<locals>.decorator.<locals>.wrapper\u001b[0;34m(estimator, *args, **kwargs)\u001b[0m\n\u001b[1;32m   1145\u001b[0m     estimator\u001b[38;5;241m.\u001b[39m_validate_params()\n\u001b[1;32m   1147\u001b[0m \u001b[38;5;28;01mwith\u001b[39;00m config_context(\n\u001b[1;32m   1148\u001b[0m     skip_parameter_validation\u001b[38;5;241m=\u001b[39m(\n\u001b[1;32m   1149\u001b[0m         prefer_skip_nested_validation \u001b[38;5;129;01mor\u001b[39;00m global_skip_validation\n\u001b[1;32m   1150\u001b[0m     )\n\u001b[1;32m   1151\u001b[0m ):\n\u001b[0;32m-> 1152\u001b[0m     \u001b[38;5;28;01mreturn\u001b[39;00m \u001b[43mfit_method\u001b[49m\u001b[43m(\u001b[49m\u001b[43mestimator\u001b[49m\u001b[43m,\u001b[49m\u001b[43m \u001b[49m\u001b[38;5;241;43m*\u001b[39;49m\u001b[43margs\u001b[49m\u001b[43m,\u001b[49m\u001b[43m \u001b[49m\u001b[38;5;241;43m*\u001b[39;49m\u001b[38;5;241;43m*\u001b[39;49m\u001b[43mkwargs\u001b[49m\u001b[43m)\u001b[49m\n",
      "File \u001b[0;32m~/Desktop/Others/Assignment/nlp/lib/python3.8/site-packages/sklearn/naive_bayes.py:745\u001b[0m, in \u001b[0;36m_BaseDiscreteNB.fit\u001b[0;34m(self, X, y, sample_weight)\u001b[0m\n\u001b[1;32m    724\u001b[0m \u001b[38;5;129m@_fit_context\u001b[39m(prefer_skip_nested_validation\u001b[38;5;241m=\u001b[39m\u001b[38;5;28;01mTrue\u001b[39;00m)\n\u001b[1;32m    725\u001b[0m \u001b[38;5;28;01mdef\u001b[39;00m \u001b[38;5;21mfit\u001b[39m(\u001b[38;5;28mself\u001b[39m, X, y, sample_weight\u001b[38;5;241m=\u001b[39m\u001b[38;5;28;01mNone\u001b[39;00m):\n\u001b[1;32m    726\u001b[0m \u001b[38;5;250m    \u001b[39m\u001b[38;5;124;03m\"\"\"Fit Naive Bayes classifier according to X, y.\u001b[39;00m\n\u001b[1;32m    727\u001b[0m \n\u001b[1;32m    728\u001b[0m \u001b[38;5;124;03m    Parameters\u001b[39;00m\n\u001b[0;32m   (...)\u001b[0m\n\u001b[1;32m    743\u001b[0m \u001b[38;5;124;03m        Returns the instance itself.\u001b[39;00m\n\u001b[1;32m    744\u001b[0m \u001b[38;5;124;03m    \"\"\"\u001b[39;00m\n\u001b[0;32m--> 745\u001b[0m     X, y \u001b[38;5;241m=\u001b[39m \u001b[38;5;28;43mself\u001b[39;49m\u001b[38;5;241;43m.\u001b[39;49m\u001b[43m_check_X_y\u001b[49m\u001b[43m(\u001b[49m\u001b[43mX\u001b[49m\u001b[43m,\u001b[49m\u001b[43m \u001b[49m\u001b[43my\u001b[49m\u001b[43m)\u001b[49m\n\u001b[1;32m    746\u001b[0m     _, n_features \u001b[38;5;241m=\u001b[39m X\u001b[38;5;241m.\u001b[39mshape\n\u001b[1;32m    748\u001b[0m     labelbin \u001b[38;5;241m=\u001b[39m LabelBinarizer()\n",
      "File \u001b[0;32m~/Desktop/Others/Assignment/nlp/lib/python3.8/site-packages/sklearn/naive_bayes.py:1449\u001b[0m, in \u001b[0;36mCategoricalNB._check_X_y\u001b[0;34m(self, X, y, reset)\u001b[0m\n\u001b[1;32m   1448\u001b[0m \u001b[38;5;28;01mdef\u001b[39;00m \u001b[38;5;21m_check_X_y\u001b[39m(\u001b[38;5;28mself\u001b[39m, X, y, reset\u001b[38;5;241m=\u001b[39m\u001b[38;5;28;01mTrue\u001b[39;00m):\n\u001b[0;32m-> 1449\u001b[0m     X, y \u001b[38;5;241m=\u001b[39m \u001b[38;5;28;43mself\u001b[39;49m\u001b[38;5;241;43m.\u001b[39;49m\u001b[43m_validate_data\u001b[49m\u001b[43m(\u001b[49m\n\u001b[1;32m   1450\u001b[0m \u001b[43m        \u001b[49m\u001b[43mX\u001b[49m\u001b[43m,\u001b[49m\u001b[43m \u001b[49m\u001b[43my\u001b[49m\u001b[43m,\u001b[49m\u001b[43m \u001b[49m\u001b[43mdtype\u001b[49m\u001b[38;5;241;43m=\u001b[39;49m\u001b[38;5;124;43m\"\u001b[39;49m\u001b[38;5;124;43mint\u001b[39;49m\u001b[38;5;124;43m\"\u001b[39;49m\u001b[43m,\u001b[49m\u001b[43m \u001b[49m\u001b[43maccept_sparse\u001b[49m\u001b[38;5;241;43m=\u001b[39;49m\u001b[38;5;28;43;01mFalse\u001b[39;49;00m\u001b[43m,\u001b[49m\u001b[43m \u001b[49m\u001b[43mforce_all_finite\u001b[49m\u001b[38;5;241;43m=\u001b[39;49m\u001b[38;5;28;43;01mTrue\u001b[39;49;00m\u001b[43m,\u001b[49m\u001b[43m \u001b[49m\u001b[43mreset\u001b[49m\u001b[38;5;241;43m=\u001b[39;49m\u001b[43mreset\u001b[49m\n\u001b[1;32m   1451\u001b[0m \u001b[43m    \u001b[49m\u001b[43m)\u001b[49m\n\u001b[1;32m   1452\u001b[0m     check_non_negative(X, \u001b[38;5;124m\"\u001b[39m\u001b[38;5;124mCategoricalNB (input X)\u001b[39m\u001b[38;5;124m\"\u001b[39m)\n\u001b[1;32m   1453\u001b[0m     \u001b[38;5;28;01mreturn\u001b[39;00m X, y\n",
      "File \u001b[0;32m~/Desktop/Others/Assignment/nlp/lib/python3.8/site-packages/sklearn/base.py:622\u001b[0m, in \u001b[0;36mBaseEstimator._validate_data\u001b[0;34m(self, X, y, reset, validate_separately, cast_to_ndarray, **check_params)\u001b[0m\n\u001b[1;32m    620\u001b[0m         y \u001b[38;5;241m=\u001b[39m check_array(y, input_name\u001b[38;5;241m=\u001b[39m\u001b[38;5;124m\"\u001b[39m\u001b[38;5;124my\u001b[39m\u001b[38;5;124m\"\u001b[39m, \u001b[38;5;241m*\u001b[39m\u001b[38;5;241m*\u001b[39mcheck_y_params)\n\u001b[1;32m    621\u001b[0m     \u001b[38;5;28;01melse\u001b[39;00m:\n\u001b[0;32m--> 622\u001b[0m         X, y \u001b[38;5;241m=\u001b[39m \u001b[43mcheck_X_y\u001b[49m\u001b[43m(\u001b[49m\u001b[43mX\u001b[49m\u001b[43m,\u001b[49m\u001b[43m \u001b[49m\u001b[43my\u001b[49m\u001b[43m,\u001b[49m\u001b[43m \u001b[49m\u001b[38;5;241;43m*\u001b[39;49m\u001b[38;5;241;43m*\u001b[39;49m\u001b[43mcheck_params\u001b[49m\u001b[43m)\u001b[49m\n\u001b[1;32m    623\u001b[0m     out \u001b[38;5;241m=\u001b[39m X, y\n\u001b[1;32m    625\u001b[0m \u001b[38;5;28;01mif\u001b[39;00m \u001b[38;5;129;01mnot\u001b[39;00m no_val_X \u001b[38;5;129;01mand\u001b[39;00m check_params\u001b[38;5;241m.\u001b[39mget(\u001b[38;5;124m\"\u001b[39m\u001b[38;5;124mensure_2d\u001b[39m\u001b[38;5;124m\"\u001b[39m, \u001b[38;5;28;01mTrue\u001b[39;00m):\n",
      "File \u001b[0;32m~/Desktop/Others/Assignment/nlp/lib/python3.8/site-packages/sklearn/utils/validation.py:1146\u001b[0m, in \u001b[0;36mcheck_X_y\u001b[0;34m(X, y, accept_sparse, accept_large_sparse, dtype, order, copy, force_all_finite, ensure_2d, allow_nd, multi_output, ensure_min_samples, ensure_min_features, y_numeric, estimator)\u001b[0m\n\u001b[1;32m   1141\u001b[0m         estimator_name \u001b[38;5;241m=\u001b[39m _check_estimator_name(estimator)\n\u001b[1;32m   1142\u001b[0m     \u001b[38;5;28;01mraise\u001b[39;00m \u001b[38;5;167;01mValueError\u001b[39;00m(\n\u001b[1;32m   1143\u001b[0m         \u001b[38;5;124mf\u001b[39m\u001b[38;5;124m\"\u001b[39m\u001b[38;5;132;01m{\u001b[39;00mestimator_name\u001b[38;5;132;01m}\u001b[39;00m\u001b[38;5;124m requires y to be passed, but the target y is None\u001b[39m\u001b[38;5;124m\"\u001b[39m\n\u001b[1;32m   1144\u001b[0m     )\n\u001b[0;32m-> 1146\u001b[0m X \u001b[38;5;241m=\u001b[39m \u001b[43mcheck_array\u001b[49m\u001b[43m(\u001b[49m\n\u001b[1;32m   1147\u001b[0m \u001b[43m    \u001b[49m\u001b[43mX\u001b[49m\u001b[43m,\u001b[49m\n\u001b[1;32m   1148\u001b[0m \u001b[43m    \u001b[49m\u001b[43maccept_sparse\u001b[49m\u001b[38;5;241;43m=\u001b[39;49m\u001b[43maccept_sparse\u001b[49m\u001b[43m,\u001b[49m\n\u001b[1;32m   1149\u001b[0m \u001b[43m    \u001b[49m\u001b[43maccept_large_sparse\u001b[49m\u001b[38;5;241;43m=\u001b[39;49m\u001b[43maccept_large_sparse\u001b[49m\u001b[43m,\u001b[49m\n\u001b[1;32m   1150\u001b[0m \u001b[43m    \u001b[49m\u001b[43mdtype\u001b[49m\u001b[38;5;241;43m=\u001b[39;49m\u001b[43mdtype\u001b[49m\u001b[43m,\u001b[49m\n\u001b[1;32m   1151\u001b[0m \u001b[43m    \u001b[49m\u001b[43morder\u001b[49m\u001b[38;5;241;43m=\u001b[39;49m\u001b[43morder\u001b[49m\u001b[43m,\u001b[49m\n\u001b[1;32m   1152\u001b[0m \u001b[43m    \u001b[49m\u001b[43mcopy\u001b[49m\u001b[38;5;241;43m=\u001b[39;49m\u001b[43mcopy\u001b[49m\u001b[43m,\u001b[49m\n\u001b[1;32m   1153\u001b[0m \u001b[43m    \u001b[49m\u001b[43mforce_all_finite\u001b[49m\u001b[38;5;241;43m=\u001b[39;49m\u001b[43mforce_all_finite\u001b[49m\u001b[43m,\u001b[49m\n\u001b[1;32m   1154\u001b[0m \u001b[43m    \u001b[49m\u001b[43mensure_2d\u001b[49m\u001b[38;5;241;43m=\u001b[39;49m\u001b[43mensure_2d\u001b[49m\u001b[43m,\u001b[49m\n\u001b[1;32m   1155\u001b[0m \u001b[43m    \u001b[49m\u001b[43mallow_nd\u001b[49m\u001b[38;5;241;43m=\u001b[39;49m\u001b[43mallow_nd\u001b[49m\u001b[43m,\u001b[49m\n\u001b[1;32m   1156\u001b[0m \u001b[43m    \u001b[49m\u001b[43mensure_min_samples\u001b[49m\u001b[38;5;241;43m=\u001b[39;49m\u001b[43mensure_min_samples\u001b[49m\u001b[43m,\u001b[49m\n\u001b[1;32m   1157\u001b[0m \u001b[43m    \u001b[49m\u001b[43mensure_min_features\u001b[49m\u001b[38;5;241;43m=\u001b[39;49m\u001b[43mensure_min_features\u001b[49m\u001b[43m,\u001b[49m\n\u001b[1;32m   1158\u001b[0m \u001b[43m    \u001b[49m\u001b[43mestimator\u001b[49m\u001b[38;5;241;43m=\u001b[39;49m\u001b[43mestimator\u001b[49m\u001b[43m,\u001b[49m\n\u001b[1;32m   1159\u001b[0m \u001b[43m    \u001b[49m\u001b[43minput_name\u001b[49m\u001b[38;5;241;43m=\u001b[39;49m\u001b[38;5;124;43m\"\u001b[39;49m\u001b[38;5;124;43mX\u001b[39;49m\u001b[38;5;124;43m\"\u001b[39;49m\u001b[43m,\u001b[49m\n\u001b[1;32m   1160\u001b[0m \u001b[43m\u001b[49m\u001b[43m)\u001b[49m\n\u001b[1;32m   1162\u001b[0m y \u001b[38;5;241m=\u001b[39m _check_y(y, multi_output\u001b[38;5;241m=\u001b[39mmulti_output, y_numeric\u001b[38;5;241m=\u001b[39my_numeric, estimator\u001b[38;5;241m=\u001b[39mestimator)\n\u001b[1;32m   1164\u001b[0m check_consistent_length(X, y)\n",
      "File \u001b[0;32m~/Desktop/Others/Assignment/nlp/lib/python3.8/site-packages/sklearn/utils/validation.py:881\u001b[0m, in \u001b[0;36mcheck_array\u001b[0;34m(array, accept_sparse, accept_large_sparse, dtype, order, copy, force_all_finite, ensure_2d, allow_nd, ensure_min_samples, ensure_min_features, estimator, input_name)\u001b[0m\n\u001b[1;32m    879\u001b[0m \u001b[38;5;28;01mif\u001b[39;00m sp\u001b[38;5;241m.\u001b[39missparse(array):\n\u001b[1;32m    880\u001b[0m     _ensure_no_complex_data(array)\n\u001b[0;32m--> 881\u001b[0m     array \u001b[38;5;241m=\u001b[39m \u001b[43m_ensure_sparse_format\u001b[49m\u001b[43m(\u001b[49m\n\u001b[1;32m    882\u001b[0m \u001b[43m        \u001b[49m\u001b[43marray\u001b[49m\u001b[43m,\u001b[49m\n\u001b[1;32m    883\u001b[0m \u001b[43m        \u001b[49m\u001b[43maccept_sparse\u001b[49m\u001b[38;5;241;43m=\u001b[39;49m\u001b[43maccept_sparse\u001b[49m\u001b[43m,\u001b[49m\n\u001b[1;32m    884\u001b[0m \u001b[43m        \u001b[49m\u001b[43mdtype\u001b[49m\u001b[38;5;241;43m=\u001b[39;49m\u001b[43mdtype\u001b[49m\u001b[43m,\u001b[49m\n\u001b[1;32m    885\u001b[0m \u001b[43m        \u001b[49m\u001b[43mcopy\u001b[49m\u001b[38;5;241;43m=\u001b[39;49m\u001b[43mcopy\u001b[49m\u001b[43m,\u001b[49m\n\u001b[1;32m    886\u001b[0m \u001b[43m        \u001b[49m\u001b[43mforce_all_finite\u001b[49m\u001b[38;5;241;43m=\u001b[39;49m\u001b[43mforce_all_finite\u001b[49m\u001b[43m,\u001b[49m\n\u001b[1;32m    887\u001b[0m \u001b[43m        \u001b[49m\u001b[43maccept_large_sparse\u001b[49m\u001b[38;5;241;43m=\u001b[39;49m\u001b[43maccept_large_sparse\u001b[49m\u001b[43m,\u001b[49m\n\u001b[1;32m    888\u001b[0m \u001b[43m        \u001b[49m\u001b[43mestimator_name\u001b[49m\u001b[38;5;241;43m=\u001b[39;49m\u001b[43mestimator_name\u001b[49m\u001b[43m,\u001b[49m\n\u001b[1;32m    889\u001b[0m \u001b[43m        \u001b[49m\u001b[43minput_name\u001b[49m\u001b[38;5;241;43m=\u001b[39;49m\u001b[43minput_name\u001b[49m\u001b[43m,\u001b[49m\n\u001b[1;32m    890\u001b[0m \u001b[43m    \u001b[49m\u001b[43m)\u001b[49m\n\u001b[1;32m    891\u001b[0m \u001b[38;5;28;01melse\u001b[39;00m:\n\u001b[1;32m    892\u001b[0m     \u001b[38;5;66;03m# If np.array(..) gives ComplexWarning, then we convert the warning\u001b[39;00m\n\u001b[1;32m    893\u001b[0m     \u001b[38;5;66;03m# to an error. This is needed because specifying a non complex\u001b[39;00m\n\u001b[1;32m    894\u001b[0m     \u001b[38;5;66;03m# dtype to the function converts complex to real dtype,\u001b[39;00m\n\u001b[1;32m    895\u001b[0m     \u001b[38;5;66;03m# thereby passing the test made in the lines following the scope\u001b[39;00m\n\u001b[1;32m    896\u001b[0m     \u001b[38;5;66;03m# of warnings context manager.\u001b[39;00m\n\u001b[1;32m    897\u001b[0m     \u001b[38;5;28;01mwith\u001b[39;00m warnings\u001b[38;5;241m.\u001b[39mcatch_warnings():\n",
      "File \u001b[0;32m~/Desktop/Others/Assignment/nlp/lib/python3.8/site-packages/sklearn/utils/validation.py:532\u001b[0m, in \u001b[0;36m_ensure_sparse_format\u001b[0;34m(spmatrix, accept_sparse, dtype, copy, force_all_finite, accept_large_sparse, estimator_name, input_name)\u001b[0m\n\u001b[1;32m    529\u001b[0m _check_large_sparse(spmatrix, accept_large_sparse)\n\u001b[1;32m    531\u001b[0m \u001b[38;5;28;01mif\u001b[39;00m accept_sparse \u001b[38;5;129;01mis\u001b[39;00m \u001b[38;5;28;01mFalse\u001b[39;00m:\n\u001b[0;32m--> 532\u001b[0m     \u001b[38;5;28;01mraise\u001b[39;00m \u001b[38;5;167;01mTypeError\u001b[39;00m(\n\u001b[1;32m    533\u001b[0m         \u001b[38;5;124m\"\u001b[39m\u001b[38;5;124mA sparse matrix was passed, but dense \u001b[39m\u001b[38;5;124m\"\u001b[39m\n\u001b[1;32m    534\u001b[0m         \u001b[38;5;124m\"\u001b[39m\u001b[38;5;124mdata is required. Use X.toarray() to \u001b[39m\u001b[38;5;124m\"\u001b[39m\n\u001b[1;32m    535\u001b[0m         \u001b[38;5;124m\"\u001b[39m\u001b[38;5;124mconvert to a dense numpy array.\u001b[39m\u001b[38;5;124m\"\u001b[39m\n\u001b[1;32m    536\u001b[0m     )\n\u001b[1;32m    537\u001b[0m \u001b[38;5;28;01melif\u001b[39;00m \u001b[38;5;28misinstance\u001b[39m(accept_sparse, (\u001b[38;5;28mlist\u001b[39m, \u001b[38;5;28mtuple\u001b[39m)):\n\u001b[1;32m    538\u001b[0m     \u001b[38;5;28;01mif\u001b[39;00m \u001b[38;5;28mlen\u001b[39m(accept_sparse) \u001b[38;5;241m==\u001b[39m \u001b[38;5;241m0\u001b[39m:\n",
      "\u001b[0;31mTypeError\u001b[0m: A sparse matrix was passed, but dense data is required. Use X.toarray() to convert to a dense numpy array."
     ]
    }
   ],
   "source": [
    "cnb = CategoricalNB()\n",
    "cnb.fit(X_train_cnb, y_train_cnb)"
   ]
  },
  {
   "cell_type": "code",
   "execution_count": 56,
   "id": "07aa0cec-37b9-44bf-85a7-dc477380432a",
   "metadata": {},
   "outputs": [
    {
     "ename": "ValueError",
     "evalue": "Found array with dim 3. CategoricalNB expected <= 2.",
     "output_type": "error",
     "traceback": [
      "\u001b[0;31m---------------------------------------------------------------------------\u001b[0m",
      "\u001b[0;31mValueError\u001b[0m                                Traceback (most recent call last)",
      "Cell \u001b[0;32mIn[56], line 1\u001b[0m\n\u001b[0;32m----> 1\u001b[0m y_pred_cnb \u001b[38;5;241m=\u001b[39m \u001b[43mcnb\u001b[49m\u001b[38;5;241;43m.\u001b[39;49m\u001b[43mpredict\u001b[49m\u001b[43m(\u001b[49m\u001b[43m[\u001b[49m\u001b[43mX_test\u001b[49m\u001b[43m]\u001b[49m\u001b[43m)\u001b[49m\n",
      "File \u001b[0;32m~/Desktop/Others/Assignment/nlp/lib/python3.8/site-packages/sklearn/naive_bayes.py:101\u001b[0m, in \u001b[0;36m_BaseNB.predict\u001b[0;34m(self, X)\u001b[0m\n\u001b[1;32m     87\u001b[0m \u001b[38;5;250m\u001b[39m\u001b[38;5;124;03m\"\"\"\u001b[39;00m\n\u001b[1;32m     88\u001b[0m \u001b[38;5;124;03mPerform classification on an array of test vectors X.\u001b[39;00m\n\u001b[1;32m     89\u001b[0m \n\u001b[0;32m   (...)\u001b[0m\n\u001b[1;32m     98\u001b[0m \u001b[38;5;124;03m    Predicted target values for X.\u001b[39;00m\n\u001b[1;32m     99\u001b[0m \u001b[38;5;124;03m\"\"\"\u001b[39;00m\n\u001b[1;32m    100\u001b[0m check_is_fitted(\u001b[38;5;28mself\u001b[39m)\n\u001b[0;32m--> 101\u001b[0m X \u001b[38;5;241m=\u001b[39m \u001b[38;5;28;43mself\u001b[39;49m\u001b[38;5;241;43m.\u001b[39;49m\u001b[43m_check_X\u001b[49m\u001b[43m(\u001b[49m\u001b[43mX\u001b[49m\u001b[43m)\u001b[49m\n\u001b[1;32m    102\u001b[0m jll \u001b[38;5;241m=\u001b[39m \u001b[38;5;28mself\u001b[39m\u001b[38;5;241m.\u001b[39m_joint_log_likelihood(X)\n\u001b[1;32m    103\u001b[0m \u001b[38;5;28;01mreturn\u001b[39;00m \u001b[38;5;28mself\u001b[39m\u001b[38;5;241m.\u001b[39mclasses_[np\u001b[38;5;241m.\u001b[39margmax(jll, axis\u001b[38;5;241m=\u001b[39m\u001b[38;5;241m1\u001b[39m)]\n",
      "File \u001b[0;32m~/Desktop/Others/Assignment/nlp/lib/python3.8/site-packages/sklearn/naive_bayes.py:1442\u001b[0m, in \u001b[0;36mCategoricalNB._check_X\u001b[0;34m(self, X)\u001b[0m\n\u001b[1;32m   1440\u001b[0m \u001b[38;5;28;01mdef\u001b[39;00m \u001b[38;5;21m_check_X\u001b[39m(\u001b[38;5;28mself\u001b[39m, X):\n\u001b[1;32m   1441\u001b[0m \u001b[38;5;250m    \u001b[39m\u001b[38;5;124;03m\"\"\"Validate X, used only in predict* methods.\"\"\"\u001b[39;00m\n\u001b[0;32m-> 1442\u001b[0m     X \u001b[38;5;241m=\u001b[39m \u001b[38;5;28;43mself\u001b[39;49m\u001b[38;5;241;43m.\u001b[39;49m\u001b[43m_validate_data\u001b[49m\u001b[43m(\u001b[49m\n\u001b[1;32m   1443\u001b[0m \u001b[43m        \u001b[49m\u001b[43mX\u001b[49m\u001b[43m,\u001b[49m\u001b[43m \u001b[49m\u001b[43mdtype\u001b[49m\u001b[38;5;241;43m=\u001b[39;49m\u001b[38;5;124;43m\"\u001b[39;49m\u001b[38;5;124;43mint\u001b[39;49m\u001b[38;5;124;43m\"\u001b[39;49m\u001b[43m,\u001b[49m\u001b[43m \u001b[49m\u001b[43maccept_sparse\u001b[49m\u001b[38;5;241;43m=\u001b[39;49m\u001b[38;5;28;43;01mFalse\u001b[39;49;00m\u001b[43m,\u001b[49m\u001b[43m \u001b[49m\u001b[43mforce_all_finite\u001b[49m\u001b[38;5;241;43m=\u001b[39;49m\u001b[38;5;28;43;01mTrue\u001b[39;49;00m\u001b[43m,\u001b[49m\u001b[43m \u001b[49m\u001b[43mreset\u001b[49m\u001b[38;5;241;43m=\u001b[39;49m\u001b[38;5;28;43;01mFalse\u001b[39;49;00m\n\u001b[1;32m   1444\u001b[0m \u001b[43m    \u001b[49m\u001b[43m)\u001b[49m\n\u001b[1;32m   1445\u001b[0m     check_non_negative(X, \u001b[38;5;124m\"\u001b[39m\u001b[38;5;124mCategoricalNB (input X)\u001b[39m\u001b[38;5;124m\"\u001b[39m)\n\u001b[1;32m   1446\u001b[0m     \u001b[38;5;28;01mreturn\u001b[39;00m X\n",
      "File \u001b[0;32m~/Desktop/Others/Assignment/nlp/lib/python3.8/site-packages/sklearn/base.py:605\u001b[0m, in \u001b[0;36mBaseEstimator._validate_data\u001b[0;34m(self, X, y, reset, validate_separately, cast_to_ndarray, **check_params)\u001b[0m\n\u001b[1;32m    603\u001b[0m         out \u001b[38;5;241m=\u001b[39m X, y\n\u001b[1;32m    604\u001b[0m \u001b[38;5;28;01melif\u001b[39;00m \u001b[38;5;129;01mnot\u001b[39;00m no_val_X \u001b[38;5;129;01mand\u001b[39;00m no_val_y:\n\u001b[0;32m--> 605\u001b[0m     out \u001b[38;5;241m=\u001b[39m \u001b[43mcheck_array\u001b[49m\u001b[43m(\u001b[49m\u001b[43mX\u001b[49m\u001b[43m,\u001b[49m\u001b[43m \u001b[49m\u001b[43minput_name\u001b[49m\u001b[38;5;241;43m=\u001b[39;49m\u001b[38;5;124;43m\"\u001b[39;49m\u001b[38;5;124;43mX\u001b[39;49m\u001b[38;5;124;43m\"\u001b[39;49m\u001b[43m,\u001b[49m\u001b[43m \u001b[49m\u001b[38;5;241;43m*\u001b[39;49m\u001b[38;5;241;43m*\u001b[39;49m\u001b[43mcheck_params\u001b[49m\u001b[43m)\u001b[49m\n\u001b[1;32m    606\u001b[0m \u001b[38;5;28;01melif\u001b[39;00m no_val_X \u001b[38;5;129;01mand\u001b[39;00m \u001b[38;5;129;01mnot\u001b[39;00m no_val_y:\n\u001b[1;32m    607\u001b[0m     out \u001b[38;5;241m=\u001b[39m _check_y(y, \u001b[38;5;241m*\u001b[39m\u001b[38;5;241m*\u001b[39mcheck_params)\n",
      "File \u001b[0;32m~/Desktop/Others/Assignment/nlp/lib/python3.8/site-packages/sklearn/utils/validation.py:951\u001b[0m, in \u001b[0;36mcheck_array\u001b[0;34m(array, accept_sparse, accept_large_sparse, dtype, order, copy, force_all_finite, ensure_2d, allow_nd, ensure_min_samples, ensure_min_features, estimator, input_name)\u001b[0m\n\u001b[1;32m    946\u001b[0m     \u001b[38;5;28;01mraise\u001b[39;00m \u001b[38;5;167;01mValueError\u001b[39;00m(\n\u001b[1;32m    947\u001b[0m         \u001b[38;5;124m\"\u001b[39m\u001b[38;5;124mdtype=\u001b[39m\u001b[38;5;124m'\u001b[39m\u001b[38;5;124mnumeric\u001b[39m\u001b[38;5;124m'\u001b[39m\u001b[38;5;124m is not compatible with arrays of bytes/strings.\u001b[39m\u001b[38;5;124m\"\u001b[39m\n\u001b[1;32m    948\u001b[0m         \u001b[38;5;124m\"\u001b[39m\u001b[38;5;124mConvert your data to numeric values explicitly instead.\u001b[39m\u001b[38;5;124m\"\u001b[39m\n\u001b[1;32m    949\u001b[0m     )\n\u001b[1;32m    950\u001b[0m \u001b[38;5;28;01mif\u001b[39;00m \u001b[38;5;129;01mnot\u001b[39;00m allow_nd \u001b[38;5;129;01mand\u001b[39;00m array\u001b[38;5;241m.\u001b[39mndim \u001b[38;5;241m>\u001b[39m\u001b[38;5;241m=\u001b[39m \u001b[38;5;241m3\u001b[39m:\n\u001b[0;32m--> 951\u001b[0m     \u001b[38;5;28;01mraise\u001b[39;00m \u001b[38;5;167;01mValueError\u001b[39;00m(\n\u001b[1;32m    952\u001b[0m         \u001b[38;5;124m\"\u001b[39m\u001b[38;5;124mFound array with dim \u001b[39m\u001b[38;5;132;01m%d\u001b[39;00m\u001b[38;5;124m. \u001b[39m\u001b[38;5;132;01m%s\u001b[39;00m\u001b[38;5;124m expected <= 2.\u001b[39m\u001b[38;5;124m\"\u001b[39m\n\u001b[1;32m    953\u001b[0m         \u001b[38;5;241m%\u001b[39m (array\u001b[38;5;241m.\u001b[39mndim, estimator_name)\n\u001b[1;32m    954\u001b[0m     )\n\u001b[1;32m    956\u001b[0m \u001b[38;5;28;01mif\u001b[39;00m force_all_finite:\n\u001b[1;32m    957\u001b[0m     _assert_all_finite(\n\u001b[1;32m    958\u001b[0m         array,\n\u001b[1;32m    959\u001b[0m         input_name\u001b[38;5;241m=\u001b[39minput_name,\n\u001b[1;32m    960\u001b[0m         estimator_name\u001b[38;5;241m=\u001b[39mestimator_name,\n\u001b[1;32m    961\u001b[0m         allow_nan\u001b[38;5;241m=\u001b[39mforce_all_finite \u001b[38;5;241m==\u001b[39m \u001b[38;5;124m\"\u001b[39m\u001b[38;5;124mallow-nan\u001b[39m\u001b[38;5;124m\"\u001b[39m,\n\u001b[1;32m    962\u001b[0m     )\n",
      "\u001b[0;31mValueError\u001b[0m: Found array with dim 3. CategoricalNB expected <= 2."
     ]
    }
   ],
   "source": [
    "y_pred_cnb = cnb.predict([X_test])"
   ]
  },
  {
   "cell_type": "code",
   "execution_count": 38,
   "id": "00815a75-cd6e-4e2a-b4ec-db18f78e6a59",
   "metadata": {},
   "outputs": [
    {
     "name": "stdout",
     "output_type": "stream",
     "text": [
      "Total Unique Values: 47\n"
     ]
    }
   ],
   "source": [
    "print('Total Unique Values:', len(merchant_freq))"
   ]
  },
  {
   "cell_type": "code",
   "execution_count": null,
   "id": "5935ad88-76ae-4f20-8ef1-fc6abb8b329b",
   "metadata": {},
   "outputs": [],
   "source": []
  }
 ],
 "metadata": {
  "kernelspec": {
   "display_name": "Python 3 (ipykernel)",
   "language": "python",
   "name": "python3"
  },
  "language_info": {
   "codemirror_mode": {
    "name": "ipython",
    "version": 3
   },
   "file_extension": ".py",
   "mimetype": "text/x-python",
   "name": "python",
   "nbconvert_exporter": "python",
   "pygments_lexer": "ipython3",
   "version": "3.8.18"
  }
 },
 "nbformat": 4,
 "nbformat_minor": 5
}
